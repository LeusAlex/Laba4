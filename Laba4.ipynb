{
 "cells": [
  {
   "cell_type": "code",
   "execution_count": 4,
   "id": "3126e2b2",
   "metadata": {},
   "outputs": [
    {
     "data": {
      "text/plain": [
       "[{'Имя': 'Иван',\n",
       "  'Возраст': '30',\n",
       "  'Профессия': 'учитель',\n",
       "  'Город': 'Санкт-Петербург'},\n",
       " {'Имя': 'Анна', 'Возраст': '25', 'Профессия': 'инженер', 'Город': 'Москва'},\n",
       " {'Имя': 'Максим',\n",
       "  'Возраст': '27',\n",
       "  'Профессия': 'программист',\n",
       "  'Город': 'Екатеринбург'},\n",
       " {'Имя': 'Ольга',\n",
       "  'Возраст': '26',\n",
       "  'Профессия': 'дизайнер',\n",
       "  'Город': 'Краснодар'},\n",
       " {'Имя': 'Елена',\n",
       "  'Возраст': '28',\n",
       "  'Профессия': 'врач',\n",
       "  'Город': 'Новосибирск'}]"
      ]
     },
     "execution_count": 4,
     "metadata": {},
     "output_type": "execute_result"
    }
   ],
   "source": [
    "import xml.etree.ElementTree as ET\n",
    "import json\n",
    "\n",
    "# Чтение файла xml\n",
    "tree = ET.parse('data.xml')\n",
    "root = tree.getroot()\n",
    "\n",
    "# Преобразование xml в словарь\n",
    "data = []\n",
    "for person in root.iter('person'):\n",
    "    person_data = {}\n",
    "    for field in person:\n",
    "        person_data[field.tag] = field.text\n",
    "    data.append(person_data)\n",
    "\n",
    "# Преобразование словаря в json\n",
    "json_data = json.dumps(data, indent=4)\n",
    "\n",
    "# Запись json в файл\n",
    "with open('data.json', 'w') as file:\n",
    "    file.write(json_data)\n",
    "    \n",
    "data"
   ]
  }
 ],
 "metadata": {
  "kernelspec": {
   "display_name": "Python 3 (ipykernel)",
   "language": "python",
   "name": "python3"
  },
  "language_info": {
   "codemirror_mode": {
    "name": "ipython",
    "version": 3
   },
   "file_extension": ".py",
   "mimetype": "text/x-python",
   "name": "python",
   "nbconvert_exporter": "python",
   "pygments_lexer": "ipython3",
   "version": "3.11.5"
  }
 },
 "nbformat": 4,
 "nbformat_minor": 5
}
