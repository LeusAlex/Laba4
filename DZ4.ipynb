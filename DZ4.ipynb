{
 "cells": [
  {
   "cell_type": "code",
   "execution_count": null,
   "id": "16141240",
   "metadata": {},
   "outputs": [
    {
     "name": "stdout",
     "output_type": "stream",
     "text": [
      "введите команду: \n",
      "p\n",
      "введите номер документа \n",
      "12\n",
      "Error\n",
      "введите команду: \n",
      "123\n",
      "Error. Для завершения нажмите \"q\"\n",
      "введите команду: \n",
      "g\n",
      "Error. Для завершения нажмите \"q\"\n",
      "введите команду: \n",
      "p\n",
      "введите номер документа \n",
      "10006\n",
      "Владелец документа: Аристарх Павлов\n"
     ]
    }
   ],
   "source": [
    "documents = [\n",
    "    {'type': 'passport', 'number': '2207 876234', 'name': 'Василий Гупкин'},\n",
    "    {'type': 'invoice', 'number': '11-2', 'name': 'Геннадий Покемонов'},\n",
    "    {'type': 'insurance', 'number': '10006', 'name': 'Аристарх Павлов'}\n",
    "]\n",
    "\n",
    "directories = {\n",
    "    '1': ['2207 876234', '11-2'],\n",
    "    '2': ['10006'],\n",
    "    '3': []\n",
    "}\n",
    "\n",
    "def owner(number_doc):\n",
    "    owner_name = \"\"\n",
    "    for doc in documents:\n",
    "        if number_doc == doc[\"number\"]:\n",
    "            owner_name = \"Владелец документа: \" + doc[\"name\"]\n",
    "            \n",
    "    if owner_name == \"\":\n",
    "        owner_name = \"Error\"\n",
    "        \n",
    "    return owner_name\n",
    "\n",
    "\n",
    "def main():\n",
    "    while True:\n",
    "        komand_input = input(f\"введите команду: \\n\") \n",
    "        if komand_input == 'p':\n",
    "            doc_num = input(f\"введите номер документа \\n\")\n",
    "            print(owner(doc_num))\n",
    "        elif komand_input == 'q':\n",
    "            break\n",
    "        else:\n",
    "            print('Error. Для завершения нажмите \"q\"')\n",
    "main()"
   ]
  }
 ],
 "metadata": {
  "kernelspec": {
   "display_name": "Python 3 (ipykernel)",
   "language": "python",
   "name": "python3"
  },
  "language_info": {
   "codemirror_mode": {
    "name": "ipython",
    "version": 3
   },
   "file_extension": ".py",
   "mimetype": "text/x-python",
   "name": "python",
   "nbconvert_exporter": "python",
   "pygments_lexer": "ipython3",
   "version": "3.11.5"
  }
 },
 "nbformat": 4,
 "nbformat_minor": 5
}
